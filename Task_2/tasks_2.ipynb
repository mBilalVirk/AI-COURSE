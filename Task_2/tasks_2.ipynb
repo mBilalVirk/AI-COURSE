{
 "cells": [
  {
   "cell_type": "markdown",
   "metadata": {},
   "source": [
    "1.\tWrite a function pairwise_swap(tup) that takes a tuple of even length and returns a new tuple with each pair of elements swapped."
   ]
  },
  {
   "cell_type": "code",
   "execution_count": null,
   "metadata": {},
   "outputs": [],
   "source": []
  },
  {
   "cell_type": "markdown",
   "metadata": {},
   "source": [
    "2.\tWrite a function unzip_tuples(tup_lst) that takes a list of tuples (each containing exactly two elements) and returns two tuples, one containing the first elements of each tuple, and the other containing the second elements."
   ]
  },
  {
   "cell_type": "code",
   "execution_count": 5,
   "metadata": {},
   "outputs": [
    {
     "name": "stdout",
     "output_type": "stream",
     "text": [
      "((3, 4),)\n",
      "((1, 2),)\n"
     ]
    }
   ],
   "source": [
    "def unzip_tuples(tup_lst):\n",
    "    first_list=[]\n",
    "    second_list=[]\n",
    "    first_list.append(tup_lst[1])\n",
    "    second_list.append(tup_lst[0])\n",
    "    return tuple(first_list), tuple(second_list)\n",
    "orignal_tuple = [(1,2),(3,4)]\n",
    "first_tup,second_tup = unzip_tuples(orignal_tuple)\n",
    "print(first_tup)\n",
    "print(second_tup)\n"
   ]
  }
 ],
 "metadata": {
  "kernelspec": {
   "display_name": "Python 3",
   "language": "python",
   "name": "python3"
  },
  "language_info": {
   "codemirror_mode": {
    "name": "ipython",
    "version": 3
   },
   "file_extension": ".py",
   "mimetype": "text/x-python",
   "name": "python",
   "nbconvert_exporter": "python",
   "pygments_lexer": "ipython3",
   "version": "3.11.5"
  }
 },
 "nbformat": 4,
 "nbformat_minor": 2
}
