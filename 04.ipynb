{
 "cells": [
  {
   "cell_type": "markdown",
   "metadata": {},
   "source": [
    "Python Program to sum all elements in list"
   ]
  },
  {
   "cell_type": "code",
   "execution_count": 17,
   "metadata": {},
   "outputs": [
    {
     "name": "stdout",
     "output_type": "stream",
     "text": [
      "-5\n"
     ]
    }
   ],
   "source": [
    "def sum_list(items):\n",
    "    sum_numbers =0\n",
    "    for x in items:\n",
    "        sum_numbers+=x\n",
    "    return sum_numbers\n",
    "print(sum_list([1,2,-8]))"
   ]
  },
  {
   "cell_type": "code",
   "execution_count": 18,
   "metadata": {},
   "outputs": [
    {
     "name": "stdout",
     "output_type": "stream",
     "text": [
      "Mean / Average is: 3.0\n"
     ]
    }
   ],
   "source": [
    "# python program to print\n",
    "# mean of element\n",
    "\n",
    "\n",
    "# list of element to calculate mean\n",
    "n_num = [1,2,3,4,5]\n",
    "n=len(n_num)\n",
    "\n",
    "get_sum = sum(n_num)\n",
    "mean = get_sum / n\n",
    "print(\"Mean / Average is: \" + str(mean))\n"
   ]
  },
  {
   "cell_type": "code",
   "execution_count": 19,
   "metadata": {},
   "outputs": [
    {
     "name": "stdout",
     "output_type": "stream",
     "text": [
      "Median is: 3\n"
     ]
    }
   ],
   "source": [
    "# Calculate median of list\n",
    "\n",
    "# Python program to print\n",
    "# median of the element\n",
    "n_num.sort()\n",
    "if n % 2 == 0:\n",
    "    median1 = n_num[n//2]\n",
    "    median2 = n_num[n//2-1]\n",
    "    median = (median1+median2/2)\n",
    "else:\n",
    "    median=n_num[n//2]\n",
    "print(\"Median is: \" + str(median))"
   ]
  },
  {
   "cell_type": "code",
   "execution_count": 20,
   "metadata": {},
   "outputs": [
    {
     "name": "stdout",
     "output_type": "stream",
     "text": [
      "4\n",
      "(1, 2, 3, 4, 5, 6, 7, 8)\n"
     ]
    }
   ],
   "source": [
    "# index function return the very first location where the element is found\n",
    "t1=(5,6,7,8,9,8,77,99,)\n",
    "print(t1.index(9))\n",
    "\n",
    "# Concate tuple\n",
    "t=(1,2,3,4)\n",
    "t2=(5,6,7,8)\n",
    "t3=t+t2\n",
    "print(t3)"
   ]
  },
  {
   "cell_type": "code",
   "execution_count": 21,
   "metadata": {},
   "outputs": [
    {
     "name": "stdout",
     "output_type": "stream",
     "text": [
      "(1, 2, 3, 4, 5, 6, 7, (14, 15, 16), 8, 9, 10, 12, 13)\n",
      "(1, 2, 3, 4)\n",
      "(5, 6, 7, (14, 15, 16), 8, 9, 10, 12, 13)\n",
      "(5, 7, 8, 10, 13)\n"
     ]
    }
   ],
   "source": [
    "t4=(1,2,3,4,5,6,7,(14,15,16),8,9,10,12,13)\n",
    "\n",
    "print(t4[:])\n",
    "print(t4[:4])\n",
    "print(t4[4:])\n",
    "print(t4[4::2])\n"
   ]
  }
 ],
 "metadata": {
  "kernelspec": {
   "display_name": "Python 3",
   "language": "python",
   "name": "python3"
  },
  "language_info": {
   "codemirror_mode": {
    "name": "ipython",
    "version": 3
   },
   "file_extension": ".py",
   "mimetype": "text/x-python",
   "name": "python",
   "nbconvert_exporter": "python",
   "pygments_lexer": "ipython3",
   "version": "3.11.5"
  }
 },
 "nbformat": 4,
 "nbformat_minor": 2
}
